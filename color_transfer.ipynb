{
 "cells": [
  {
   "cell_type": "markdown",
   "metadata": {},
   "source": [
    "# Color Transfer\n",
    "\n",
    "## Source Image\n",
    "![source](source.jpg)\n",
    "\n",
    "## Target Image\n",
    "![target](target.jpg)"
   ]
  },
  {
   "cell_type": "markdown",
   "metadata": {},
   "source": [
    "Here, we implement (loosely) the color transfer algorithm in [Color Transfer Between Images](https://www.researchgate.net/publication/220518215_Color_Transfer_between_Images) by Reinhard et al, 2001.\n",
    "\n",
    "The paper utilizes the L x a x b x color space, the mean and the standard deviation of each of L(lightness), a(red=postive axis, green=negative axis) and b(blue=negative axis, yellow=postive axis) for the transfer of color from source to the target image. \n",
    "\n",
    "OpenCV respresents iamges in NumPy arrays, but default type is *uint8* datatype. This works in many cases but here the mean and teh standard deviation can be in decimal and negative, therefore to avoid any loss we use float."
   ]
  },
  {
   "cell_type": "code",
   "execution_count": 1,
   "metadata": {
    "collapsed": true
   },
   "outputs": [],
   "source": [
    "import numpy as np\n",
    "import cv2"
   ]
  },
  {
   "cell_type": "markdown",
   "metadata": {},
   "source": [
    "## Transfer Color\n",
    "Input a *source* and *target* image. The color space of *source* image is transferred to the color space of *target* image."
   ]
  },
  {
   "cell_type": "code",
   "execution_count": 2,
   "metadata": {
    "collapsed": true
   },
   "outputs": [],
   "source": [
    "def color_transfer(source, target):\n",
    "    # convert color space from BGR to L*a*b color space\n",
    "    # note - OpenCV expects a 32bit float rather than 64bit\n",
    "    source = cv2.cvtColor(source, cv2.COLOR_BGR2LAB).astype(\"float32\")\n",
    "    target = cv2.cvtColor(target, cv2.COLOR_BGR2LAB).astype(\"float32\")\n",
    "    \n",
    "    # compute color stats for both images\n",
    "    (lMeanSrc, lStdSrc, aMeanSrc, aStdSrc, bMeanSrc, bStdSrc) = image_stats(source)\n",
    "    (lMeanTar, lStdTar, aMeanTar, aStdTar, bMeanTar, bStdTar) = image_stats(target)\n",
    "    \n",
    "    # split the color space\n",
    "    (l, a, b) = cv2.split(target)\n",
    "    \n",
    "    # substarct the means from target image\n",
    "    l -= lMeanTar\n",
    "    a -= aMeanTar\n",
    "    b -= bMeanTar\n",
    "    \n",
    "    # scale by the standard deviation\n",
    "    l = (lStdTar/lStdSrc)*l\n",
    "    a = (aStdTar/aStdSrc)*a\n",
    "    b = (bStdTar/bStdSrc)*b\n",
    "    \n",
    "    # add the source mean\n",
    "    l += lMeanSrc\n",
    "    a += aMeanSrc\n",
    "    b += bMeanSrc\n",
    "    \n",
    "    # clipping the pixels between 0 and 255\n",
    "    l = np.clip(l, 0, 255)\n",
    "    a = np.clip(a, 0, 255)\n",
    "    b = np.clip(b, 0, 255)\n",
    "    \n",
    "    # merge the channels\n",
    "    transfer = cv2.merge([l, a, b])\n",
    "    \n",
    "    # converting back to BGR\n",
    "    transfer = cv2.cvtColor(transfer.astype(\"uint8\"), cv2.COLOR_LAB2BGR)\n",
    "    \n",
    "    return transfer"
   ]
  },
  {
   "cell_type": "markdown",
   "metadata": {},
   "source": [
    "## Calculating Image Statistics\n",
    "The mean and standard deviation of the L, a, b channels of both source and target images."
   ]
  },
  {
   "cell_type": "code",
   "execution_count": 3,
   "metadata": {
    "collapsed": true
   },
   "outputs": [],
   "source": [
    "def image_stats(image):\n",
    "    # compute mean and standard deviation of each channel\n",
    "    (l, a, b) = cv2.split(image)\n",
    "    (lMean, lStd) = (l.mean(), l.std())\n",
    "    (aMean, aStd) = (a.mean(), a.std())\n",
    "    (bMean, bStd) = (b.mean(), b.std())\n",
    "    \n",
    "    return (lMean, lStd, aMean, aStd, bMean, bStd)"
   ]
  },
  {
   "cell_type": "markdown",
   "metadata": {},
   "source": [
    "## Display Images"
   ]
  },
  {
   "cell_type": "code",
   "execution_count": 4,
   "metadata": {
    "collapsed": true
   },
   "outputs": [],
   "source": [
    "def show_image(title, image, width=720):\n",
    "    r = width/float(image.shape[1])\n",
    "    dim = (width, int(image.shape[0]*r))\n",
    "    resized = cv2.resize(image, dim, interpolation=cv2.INTER_AREA)\n",
    "    \n",
    "    cv2.imshow(title, resized)"
   ]
  },
  {
   "cell_type": "markdown",
   "metadata": {},
   "source": [
    "## Calling all Functions"
   ]
  },
  {
   "cell_type": "code",
   "execution_count": 5,
   "metadata": {},
   "outputs": [
    {
     "data": {
      "text/plain": [
       "-1"
      ]
     },
     "execution_count": 5,
     "metadata": {},
     "output_type": "execute_result"
    }
   ],
   "source": [
    "source = cv2.imread(\"source.jpg\")\n",
    "target = cv2.imread(\"target.jpg\")\n",
    "\n",
    "# transfer of color\n",
    "transfer = color_transfer(source, target)\n",
    "\n",
    "# display of image\n",
    "show_image(\"Source\", source)\n",
    "show_image(\"Target\", target)\n",
    "show_image(\"Transfer\", transfer)\n",
    "cv2.waitKey(0)"
   ]
  }
 ],
 "metadata": {
  "kernelspec": {
   "display_name": "Python 3",
   "language": "python",
   "name": "python3"
  },
  "language_info": {
   "codemirror_mode": {
    "name": "ipython",
    "version": 3
   },
   "file_extension": ".py",
   "mimetype": "text/x-python",
   "name": "python",
   "nbconvert_exporter": "python",
   "pygments_lexer": "ipython3",
   "version": "3.5.3"
  }
 },
 "nbformat": 4,
 "nbformat_minor": 2
}
